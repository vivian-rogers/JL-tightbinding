{
 "cells": [
  {
   "cell_type": "code",
   "execution_count": 85,
   "id": "234de6d7-4b78-44c7-9acc-8f3bde8f3c35",
   "metadata": {},
   "outputs": [],
   "source": [
    "from sympy import *\n",
    "from sympy.physics.hep.gamma_matrices import GammaMatrix as G\n",
    "from sympy.physics.quantum.dagger import Dagger\n",
    "from sympy.physics.quantum.state import Ket, Bra\n",
    "from sympy.physics.quantum.operator import Operator\n",
    "from sympy.physics.quantum.operator import DifferentialOperator\n",
    "#from sympy.physics.paulialgebra import Pauli, evaluate_pauli_product"
   ]
  },
  {
   "cell_type": "code",
   "execution_count": 124,
   "id": "5fc7dabe-b656-4583-897d-88a1871f8d3c",
   "metadata": {},
   "outputs": [],
   "source": [
    "s0 = Matrix([[1, 0],[0, 1]]); s1 = Matrix([[0, 1],[1, 0]]); s2 = Matrix([[0, I],[-I, 0]]); s3 = Matrix([[1, 0],[0, -1]]);\n",
    "kx, ky, kz, vf, J, hbar = symbols(\"kx ky kz vf J hbar\",real=True)\n",
    "x, y, z = symbols(\"x y z\", real=True)"
   ]
  },
  {
   "cell_type": "code",
   "execution_count": 108,
   "id": "35236b77-e2e0-4b55-9542-4da047544a97",
   "metadata": {
    "jupyter": {
     "source_hidden": true
    },
    "tags": []
   },
   "outputs": [],
   "source": [
    "del D"
   ]
  },
  {
   "cell_type": "code",
   "execution_count": 125,
   "id": "705f3298-78d5-496c-b595-8a60a4cec8b0",
   "metadata": {},
   "outputs": [
    {
     "data": {
      "text/latex": [
       "$\\displaystyle \\left[\\begin{matrix}J \\sin{\\left(x \\right)} & i J \\cos{\\left(x \\right)}\\\\- i J \\cos{\\left(x \\right)} & - J \\sin{\\left(x \\right)}\\end{matrix}\\right]$"
      ],
      "text/plain": [
       "Matrix([\n",
       "[   J*sin(x), I*J*cos(x)],\n",
       "[-I*J*cos(x),  -J*sin(x)]])"
      ]
     },
     "metadata": {},
     "output_type": "display_data"
    },
    {
     "data": {
      "text/latex": [
       "$\\displaystyle \\left[\\begin{matrix}- i \\hbar vf D\\left(z\\right) & - i \\hbar vf \\left(D\\left(x\\right) + i D\\left(y\\right)\\right)\\\\- i \\hbar vf \\left(D\\left(x\\right) - i D\\left(y\\right)\\right) & i \\hbar vf D\\left(z\\right)\\end{matrix}\\right]$"
      ],
      "text/plain": [
       "Matrix([\n",
       "[           -I*hbar*vf*D(z), -I*hbar*vf*(D(x) + I*D(y))],\n",
       "[-I*hbar*vf*(D(x) - I*D(y)),             I*hbar*vf*D(z)]])"
      ]
     },
     "metadata": {},
     "output_type": "display_data"
    }
   ],
   "source": [
    "HB = J*(cos(x)*s2+sin(x)*s3)\n",
    "display(HB)\n",
    "display(Hweyl)"
   ]
  },
  {
   "cell_type": "code",
   "execution_count": 127,
   "id": "a69b754e-eced-4651-a001-4d838c0ea369",
   "metadata": {},
   "outputs": [
    {
     "data": {
      "text/latex": [
       "$\\displaystyle \\left[\\begin{matrix}- \\frac{i \\cos{\\left(x \\right)}}{\\left(\\sin{\\left(x \\right)} + 1\\right) \\sqrt{\\left|{\\frac{\\cos{\\left(x \\right)}}{\\sin{\\left(x \\right)} + 1}}\\right|^{2} + 1}} & - \\frac{i \\cos{\\left(x \\right)}}{\\left(\\sin{\\left(x \\right)} - 1\\right) \\sqrt{\\left|{\\frac{\\cos{\\left(x \\right)}}{\\sin{\\left(x \\right)} - 1}}\\right|^{2} + 1}}\\\\\\frac{1}{\\sqrt{\\left|{\\frac{\\cos{\\left(x \\right)}}{\\sin{\\left(x \\right)} + 1}}\\right|^{2} + 1}} & \\frac{1}{\\sqrt{\\left|{\\frac{\\cos{\\left(x \\right)}}{\\sin{\\left(x \\right)} - 1}}\\right|^{2} + 1}}\\end{matrix}\\right]$"
      ],
      "text/plain": [
       "Matrix([\n",
       "[-I*cos(x)/((sin(x) + 1)*sqrt(Abs(cos(x)/(sin(x) + 1))**2 + 1)), -I*cos(x)/((sin(x) - 1)*sqrt(Abs(cos(x)/(sin(x) - 1))**2 + 1))],\n",
       "[                       1/sqrt(Abs(cos(x)/(sin(x) + 1))**2 + 1),                        1/sqrt(Abs(cos(x)/(sin(x) - 1))**2 + 1)]])"
      ]
     },
     "metadata": {},
     "output_type": "display_data"
    }
   ],
   "source": [
    "P, eigs = HB.diagonalize(normalize=True)\n",
    "x, y, z = symbols(\"x y z\", commutative=False)\n",
    "P = simplify(P); display(P)"
   ]
  },
  {
   "cell_type": "code",
   "execution_count": 122,
   "id": "61199d18-6213-450a-a488-c8fec558fe45",
   "metadata": {},
   "outputs": [],
   "source": [
    "ddx = D(x); ddy = D(y); ddz = D(z); \n",
    "Hweyl = -I*hbar*vf*(ddx*s1+ddy*s2+ddz*s3)"
   ]
  },
  {
   "cell_type": "code",
   "execution_count": 123,
   "id": "f23cdbe0-c1eb-455c-91ed-83c73c0058c1",
   "metadata": {},
   "outputs": [
    {
     "data": {
      "text/latex": [
       "$\\displaystyle \\left[\\begin{matrix}\\frac{i \\hbar vf \\left(\\sin^{2}{\\left(x \\right)} D\\left(z\\right) + \\sin{\\left(x \\right)} \\cos{\\left(x \\right)} D\\left(y\\right) + \\sin{\\left(x \\right)} D\\left(z\\right) + \\cos{\\left(x \\right)} D\\left(y\\right)\\right)}{\\sin{\\left(x \\right)} + 1} & \\hbar vf \\left(- \\frac{i \\sin^{2}{\\left(x \\right)} D\\left(y\\right)}{\\cos{\\left(x \\right)}} + i \\sin{\\left(x \\right)} D\\left(z\\right) + \\tan{\\left(x \\right)} D\\left(x\\right) - i \\tan{\\left(x \\right)} D\\left(y\\right) + i D\\left(z\\right) + \\frac{D\\left(x\\right)}{\\cos{\\left(x \\right)}}\\right)\\\\\\frac{\\hbar vf \\cos{\\left(x \\right)} \\left(- \\left(\\sin{\\left(x \\right)} + 1\\right)^{2} \\left(D\\left(x\\right) + i D\\left(y\\right)\\right) + i \\left(\\sin{\\left(x \\right)} + 1\\right) \\cos{\\left(x \\right)} D\\left(z\\right) + i \\cos{\\left(x \\right)} \\left(\\left(\\sin{\\left(x \\right)} + 1\\right) D\\left(z\\right) + i \\cos{\\left(x \\right)} \\left(D\\left(x\\right) - i D\\left(y\\right)\\right)\\right)\\right)}{2 \\left(\\sin{\\left(x \\right)} + 1\\right)^{2}} & - \\frac{i \\hbar vf \\left(\\sin{\\left(2 x \\right)} D\\left(z\\right) + \\cos{\\left(2 x \\right)} D\\left(y\\right) + D\\left(y\\right)\\right)}{2 \\cos{\\left(x \\right)}}\\end{matrix}\\right]$"
      ],
      "text/plain": [
       "Matrix([\n",
       "[                                                                    I*hbar*vf*(sin(x)**2*D(z) + sin(x)*cos(x)*D(y) + sin(x)*D(z) + cos(x)*D(y))/(sin(x) + 1), hbar*vf*(-I*sin(x)**2*D(y)/cos(x) + I*sin(x)*D(z) + tan(x)*D(x) - I*tan(x)*D(y) + I*D(z) + D(x)/cos(x))],\n",
       "[hbar*vf*cos(x)*(-(sin(x) + 1)**2*(D(x) + I*D(y)) + I*(sin(x) + 1)*cos(x)*D(z) + I*cos(x)*((sin(x) + 1)*D(z) + I*cos(x)*(D(x) - I*D(y))))/(2*(sin(x) + 1)**2),                                            -I*hbar*vf*(sin(2*x)*D(z) + cos(2*x)*D(y) + D(y))/(2*cos(x))]])"
      ]
     },
     "execution_count": 123,
     "metadata": {},
     "output_type": "execute_result"
    }
   ],
   "source": [
    "simplify(P**-1@Hweyl@P)"
   ]
  },
  {
   "cell_type": "code",
   "execution_count": 101,
   "id": "b8b1fcbc-c0af-48e0-b983-d08897b5d439",
   "metadata": {},
   "outputs": [
    {
     "data": {
      "text/latex": [
       "$\\displaystyle \\left[\\begin{matrix}\\frac{\\hbar vf \\cos{\\left(x \\right)} \\left(D\\left(x\\right) + i D\\left(y\\right)\\right)}{2} + \\frac{i \\hbar vf \\left(2 \\sin{\\left(x \\right)} - \\cos^{2}{\\left(x \\right)} + 2\\right) D\\left(z\\right)}{2 \\sin{\\left(x \\right)} + 2} - \\frac{i \\cos{\\left(x \\right)} \\left(\\frac{\\hbar vf \\cos{\\left(x \\right)} D\\left(z\\right)}{2} - \\frac{i \\hbar vf \\left(2 \\sin{\\left(x \\right)} - \\cos^{2}{\\left(x \\right)} + 2\\right) \\left(D\\left(x\\right) - i D\\left(y\\right)\\right)}{2 \\sin{\\left(x \\right)} + 2}\\right)}{\\sin{\\left(x \\right)} + 1} & \\frac{\\hbar vf \\cos{\\left(x \\right)} \\left(D\\left(x\\right) + i D\\left(y\\right)\\right)}{2} + \\frac{i \\hbar vf \\left(2 \\sin{\\left(x \\right)} - \\cos^{2}{\\left(x \\right)} + 2\\right) D\\left(z\\right)}{2 \\sin{\\left(x \\right)} + 2} - \\frac{i \\cos{\\left(x \\right)} \\left(\\frac{\\hbar vf \\cos{\\left(x \\right)} D\\left(z\\right)}{2} - \\frac{i \\hbar vf \\left(2 \\sin{\\left(x \\right)} - \\cos^{2}{\\left(x \\right)} + 2\\right) \\left(D\\left(x\\right) - i D\\left(y\\right)\\right)}{2 \\sin{\\left(x \\right)} + 2}\\right)}{\\sin{\\left(x \\right)} - 1}\\\\- \\frac{\\hbar vf \\cos{\\left(x \\right)} \\left(D\\left(x\\right) + i D\\left(y\\right)\\right)}{2} + \\frac{i \\hbar vf \\cos^{2}{\\left(x \\right)} D\\left(z\\right)}{2 \\sin{\\left(x \\right)} + 2} - \\frac{i \\cos{\\left(x \\right)} \\left(- \\frac{\\hbar vf \\cos{\\left(x \\right)} D\\left(z\\right)}{2} - \\frac{i \\hbar vf \\cos^{2}{\\left(x \\right)} \\left(D\\left(x\\right) - i D\\left(y\\right)\\right)}{2 \\sin{\\left(x \\right)} + 2}\\right)}{\\sin{\\left(x \\right)} + 1} & - \\frac{\\hbar vf \\cos{\\left(x \\right)} \\left(D\\left(x\\right) + i D\\left(y\\right)\\right)}{2} + \\frac{i \\hbar vf \\cos^{2}{\\left(x \\right)} D\\left(z\\right)}{2 \\sin{\\left(x \\right)} + 2} - \\frac{i \\cos{\\left(x \\right)} \\left(- \\frac{\\hbar vf \\cos{\\left(x \\right)} D\\left(z\\right)}{2} - \\frac{i \\hbar vf \\cos^{2}{\\left(x \\right)} \\left(D\\left(x\\right) - i D\\left(y\\right)\\right)}{2 \\sin{\\left(x \\right)} + 2}\\right)}{\\sin{\\left(x \\right)} - 1}\\end{matrix}\\right]$"
      ],
      "text/plain": [
       "Matrix([\n",
       "[hbar*vf*cos(x)*(D(x) + I*D(y))/2 + I*hbar*vf*(2*sin(x) - cos(x)**2 + 2)*D(z)/(2*sin(x) + 2) - I*cos(x)*(hbar*vf*cos(x)*D(z)/2 - I*hbar*vf*(2*sin(x) - cos(x)**2 + 2)*(D(x) - I*D(y))/(2*sin(x) + 2))/(sin(x) + 1), hbar*vf*cos(x)*(D(x) + I*D(y))/2 + I*hbar*vf*(2*sin(x) - cos(x)**2 + 2)*D(z)/(2*sin(x) + 2) - I*cos(x)*(hbar*vf*cos(x)*D(z)/2 - I*hbar*vf*(2*sin(x) - cos(x)**2 + 2)*(D(x) - I*D(y))/(2*sin(x) + 2))/(sin(x) - 1)],\n",
       "[                                -hbar*vf*cos(x)*(D(x) + I*D(y))/2 + I*hbar*vf*cos(x)**2*D(z)/(2*sin(x) + 2) - I*cos(x)*(-hbar*vf*cos(x)*D(z)/2 - I*hbar*vf*cos(x)**2*(D(x) - I*D(y))/(2*sin(x) + 2))/(sin(x) + 1),                                 -hbar*vf*cos(x)*(D(x) + I*D(y))/2 + I*hbar*vf*cos(x)**2*D(z)/(2*sin(x) + 2) - I*cos(x)*(-hbar*vf*cos(x)*D(z)/2 - I*hbar*vf*cos(x)**2*(D(x) - I*D(y))/(2*sin(x) + 2))/(sin(x) - 1)]])"
      ]
     },
     "execution_count": 101,
     "metadata": {},
     "output_type": "execute_result"
    }
   ],
   "source": [
    "P**-1@Hweyl@P"
   ]
  },
  {
   "cell_type": "code",
   "execution_count": 78,
   "id": "88b31344-d0a7-4592-b8c3-e8f70b032fd8",
   "metadata": {},
   "outputs": [
    {
     "data": {
      "text/latex": [
       "$\\displaystyle \\left[\\begin{matrix}- \\frac{i \\cos{\\left(x \\right)}}{\\sin{\\left(x \\right)} + 1} & - \\frac{i \\cos{\\left(x \\right)}}{\\sin{\\left(x \\right)} - 1}\\\\1 & 1\\end{matrix}\\right]$"
      ],
      "text/plain": [
       "Matrix([\n",
       "[-I*cos(x)/(sin(x) + 1), -I*cos(x)/(sin(x) - 1)],\n",
       "[                     1,                      1]])"
      ]
     },
     "metadata": {},
     "output_type": "display_data"
    },
    {
     "data": {
      "text/latex": [
       "$\\displaystyle \\left[\\begin{matrix}- J & 0\\\\0 & J\\end{matrix}\\right]$"
      ],
      "text/plain": [
       "Matrix([\n",
       "[-J, 0],\n",
       "[ 0, J]])"
      ]
     },
     "metadata": {},
     "output_type": "display_data"
    },
    {
     "data": {
      "text/latex": [
       "$\\displaystyle \\left[\\begin{matrix}J \\sin{\\left(x \\right)} & i J \\cos{\\left(x \\right)}\\\\- i J \\cos{\\left(x \\right)} & - J \\sin{\\left(x \\right)}\\end{matrix}\\right]$"
      ],
      "text/plain": [
       "Matrix([\n",
       "[   J*sin(x), I*J*cos(x)],\n",
       "[-I*J*cos(x),  -J*sin(x)]])"
      ]
     },
     "metadata": {},
     "output_type": "display_data"
    },
    {
     "data": {
      "text/plain": [
       "True"
      ]
     },
     "execution_count": 78,
     "metadata": {},
     "output_type": "execute_result"
    }
   ],
   "source": [
    "display(P)\n",
    "display(D)\n",
    "reconstructed = P@D@(P)**-1\n",
    "display(simplify(reconstructed))\n",
    "HB.equals(reconstructed)"
   ]
  },
  {
   "cell_type": "code",
   "execution_count": 110,
   "id": "b7c8e0d5-00bb-4d83-ae21-330f927453ef",
   "metadata": {},
   "outputs": [],
   "source": [
    "import sympy\n",
    "from sympy.core.decorators import call_highest_priority\n",
    "from sympy import Expr, Matrix, Mul, Add, diff\n",
    "from sympy.core.numbers import Zero\n",
    "\n",
    "class D(Expr):\n",
    "    _op_priority = 11.\n",
    "    is_commutative = False\n",
    "    def __init__(self, *variables, **assumptions):\n",
    "        super(D, self).__init__()\n",
    "        self.evaluate = False\n",
    "        self.variables = variables\n",
    "\n",
    "    def __repr__(self):\n",
    "        return 'D%s' % str(self.variables)\n",
    "\n",
    "    def __str__(self):\n",
    "        return self.__repr__()\n",
    "\n",
    "    @call_highest_priority('__mul__')\n",
    "    def __rmul__(self, other):\n",
    "        return Mul(other, self)\n",
    "\n",
    "    @call_highest_priority('__rmul__')\n",
    "    def __mul__(self, other):\n",
    "        if isinstance(other, D):\n",
    "            variables = self.variables + other.variables\n",
    "            return D(*variables)\n",
    "        if isinstance(other, Matrix):\n",
    "            other_copy = other.copy()\n",
    "            for i, elem in enumerate(other):\n",
    "                other_copy[i] = self * elem\n",
    "            return other_copy\n",
    "\n",
    "        if self.evaluate:\n",
    "            return diff(other, *self.variables)\n",
    "        else:\n",
    "            return Mul(self, other)\n",
    "\n",
    "    def __pow__(self, other):\n",
    "        variables = self.variables\n",
    "        for i in range(other-1):\n",
    "            variables += self.variables\n",
    "        return D(*variables)\n",
    "\n",
    "def mydiff(expr, *variables):\n",
    "    if isinstance(expr, D):\n",
    "        expr.variables += variables\n",
    "        return D(*expr.variables)\n",
    "    if isinstance(expr, Matrix):\n",
    "        expr_copy = expr.copy()\n",
    "        for i, elem in enumerate(expr):\n",
    "            expr_copy[i] = diff(elem, *variables)\n",
    "        return expr_copy\n",
    "    return diff(expr, *variables)\n",
    "\n",
    "def evaluateMul(expr):\n",
    "    end = 0\n",
    "    if expr.args:\n",
    "        if isinstance(expr.args[-1], D):\n",
    "            if len(expr.args[:-1])==1:\n",
    "                cte = expr.args[0]\n",
    "                return Zero()\n",
    "            end = -1\n",
    "    for i in range(len(expr.args)-1+end, -1, -1):\n",
    "        arg = expr.args[i]\n",
    "        if isinstance(arg, Add):\n",
    "            arg = evaluateAdd(arg)\n",
    "        if isinstance(arg, Mul):\n",
    "            arg = evaluateMul(arg)\n",
    "        if isinstance(arg, D):\n",
    "            left = Mul(*expr.args[:i])\n",
    "            right = Mul(*expr.args[i+1:])\n",
    "            right = mydiff(right, *arg.variables)\n",
    "            ans = left * right\n",
    "            return evaluateMul(ans)\n",
    "    return expr\n",
    "\n",
    "def evaluateAdd(expr):\n",
    "    newargs = []\n",
    "    for arg in expr.args:\n",
    "        if isinstance(arg, Mul):\n",
    "            arg = evaluateMul(arg)\n",
    "        if isinstance(arg, Add):\n",
    "            arg = evaluateAdd(arg)\n",
    "        if isinstance(arg, D):\n",
    "            arg = Zero()\n",
    "        newargs.append(arg)\n",
    "    return Add(*newargs)\n",
    "\n",
    "#courtesy: https://stackoverflow.com/a/48291478/1429450\n",
    "def disableNonCommutivity(expr):\n",
    "    replacements = {s: sympy.Dummy(s.name) for s in expr.free_symbols}\n",
    "    return expr.xreplace(replacements)\n",
    "\n",
    "def evaluateExpr(expr):\n",
    "    if isinstance(expr, Matrix):\n",
    "        for i, elem in enumerate(expr):\n",
    "            elem = elem.expand()\n",
    "            expr[i] = evaluateExpr(elem)\n",
    "        return disableNonCommutivity(expr)\n",
    "    expr = expr.expand()\n",
    "    if isinstance(expr, Mul):\n",
    "        expr = evaluateMul(expr)\n",
    "    elif isinstance(expr, Add):\n",
    "        expr = evaluateAdd(expr)\n",
    "    elif isinstance(expr, D):\n",
    "        expr = Zero()\n",
    "    return disableNonCommutivity(expr)"
   ]
  },
  {
   "cell_type": "code",
   "execution_count": null,
   "id": "4e9e2483-3a21-4b4a-9499-f68b5f768204",
   "metadata": {},
   "outputs": [],
   "source": []
  }
 ],
 "metadata": {
  "kernelspec": {
   "display_name": "Python 3 (ipykernel)",
   "language": "python",
   "name": "python3"
  },
  "language_info": {
   "codemirror_mode": {
    "name": "ipython",
    "version": 3
   },
   "file_extension": ".py",
   "mimetype": "text/x-python",
   "name": "python",
   "nbconvert_exporter": "python",
   "pygments_lexer": "ipython3",
   "version": "3.9.7"
  }
 },
 "nbformat": 4,
 "nbformat_minor": 5
}
