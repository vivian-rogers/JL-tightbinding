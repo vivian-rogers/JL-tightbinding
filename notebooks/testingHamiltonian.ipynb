{
 "cells": [
  {
   "cell_type": "code",
   "execution_count": 2,
   "id": "60b0a16f",
   "metadata": {},
   "outputs": [
    {
     "data": {
      "text/plain": [
       "4×4 Matrix{ComplexF64}:\n",
       "   1.5+0.0im       0.0-0.0im    1.0e8+0.0im     1.0e7-1.0e6im\n",
       "   0.0+0.0im      -0.5+0.0im    1.0e7+1.0e6im  -1.0e8+0.0im\n",
       " 1.0e8+0.0im     1.0e7-1.0e6im    0.5+0.0im       0.0-0.0im\n",
       " 1.0e7+1.0e6im  -1.0e8+0.0im      0.0+0.0im      -1.5+0.0im"
      ]
     },
     "execution_count": 2,
     "metadata": {},
     "output_type": "execute_result"
    }
   ],
   "source": [
    "using LinearAlgebra\n",
    "using Plots\n",
    "\n",
    "\n",
    "σ₁ = [0 1; 1 0]; σ₂ = [0 -im; im 0]; σ₃ = [1 0 ; 0 -1];\n",
    "τ₁ = σ₁; τ₂ = σ₂; τ₃ = σ₃;\n",
    "σ = Vector{Matrix}(undef,3); σ[1] = σ₁; σ[2] = σ₂; σ[3] = σ₃;\n",
    "⊗(a,b) = kron(a,b)\n",
    "\n",
    "function matdot(A::Vector{Matrix},B::Vector{Float64})\n",
    "    sum = zeros(ComplexF64,size(A[1]))\n",
    "    for i in eachindex(B)\n",
    "        sum .+= B[i]*A[i]\n",
    "    end\n",
    "    return sum\n",
    "end\n",
    "\n",
    "function H(k::Vector{Float64})\n",
    "    vf = 1; β = 1; m = 0.5;\n",
    "    return vf*τ₁⊗matdot(σ,k) .+ m*τ₃⊗I(2) .+ β*I(2)⊗σ₃ \n",
    "end\n",
    "\n",
    "\n",
    "function kdictGen(A)\n",
    "    B = transpose(2*π*inv(A))\n",
    "    kdict = Dict(\n",
    "        \"M--0\" => B*[-1/2  ; -1/2;   0],\n",
    "        \"M-+0\" => B*[-1/2  ;  1/2;   0],\n",
    "        \"M++0\" => B*[ 1/2  ;  1/2;   0],\n",
    "        \"M+-0\" => B*[ 1/2  ; -1/2;   0],\n",
    "    )\n",
    "    return kdict\n",
    "end\n",
    "\n",
    "nm = 10^-9\n",
    "a = 5*nm;\n",
    "A = a*I(3)\n",
    "kdict = kdictGen(A)\n",
    "klist = [\"M--0\",\"M-+0\",\"M++0\",\"M+-0\"]\n",
    "\n",
    "\n",
    "H([10^7;10^6.0;10^8.0])"
   ]
  },
  {
   "cell_type": "code",
   "execution_count": 3,
   "id": "9c08fd9b",
   "metadata": {},
   "outputs": [
    {
     "ename": "LoadError",
     "evalue": "MethodError: no method matching eigvals(::typeof(H))\n\u001b[0mClosest candidates are:\n\u001b[0m  eigvals(\u001b[91m::Union{Eigen, GeneralizedEigen}\u001b[39m) at /usr/share/julia/stdlib/v1.8/LinearAlgebra/src/eigen.jl:270\n\u001b[0m  eigvals(\u001b[91m::Union{Adjoint{T, <:Union{StaticArraysCore.StaticArray{Tuple{var\"#s2\"}, T, 1} where var\"#s2\", StaticArraysCore.StaticArray{Tuple{var\"#s3\", var\"#s4\"}, T, 2} where {var\"#s3\", var\"#s4\"}}}, Diagonal{T, <:StaticArraysCore.StaticArray{Tuple{var\"#s13\"}, T, 1} where var\"#s13\"}, Hermitian{T, <:StaticArraysCore.StaticArray{Tuple{var\"#s10\", var\"#s11\"}, T, 2} where {var\"#s10\", var\"#s11\"}}, LowerTriangular{T, <:StaticArraysCore.StaticArray{Tuple{var\"#s18\", var\"#s19\"}, T, 2} where {var\"#s18\", var\"#s19\"}}, Symmetric{T, <:StaticArraysCore.StaticArray{Tuple{var\"#s7\", var\"#s8\"}, T, 2} where {var\"#s7\", var\"#s8\"}}, Transpose{T, <:Union{StaticArraysCore.StaticArray{Tuple{var\"#s2\"}, T, 1} where var\"#s2\", StaticArraysCore.StaticArray{Tuple{var\"#s3\", var\"#s4\"}, T, 2} where {var\"#s3\", var\"#s4\"}}}, UnitLowerTriangular{T, <:StaticArraysCore.StaticArray{Tuple{var\"#s24\", var\"#s25\"}, T, 2} where {var\"#s24\", var\"#s25\"}}, UnitUpperTriangular{T, <:StaticArraysCore.StaticArray{Tuple{var\"#s21\", var\"#s22\"}, T, 2} where {var\"#s21\", var\"#s22\"}}, UpperTriangular{T, <:StaticArraysCore.StaticArray{Tuple{var\"#s15\", var\"#s16\"}, T, 2} where {var\"#s15\", var\"#s16\"}}, StaticArraysCore.StaticArray{Tuple{var\"#s1\", var\"#s3\"}, T, 2} where {var\"#s1\", var\"#s3\"}} where T\u001b[39m, \u001b[91m::Union{Adjoint{T, <:Union{StaticArraysCore.StaticArray{Tuple{var\"#s2\"}, T, 1} where var\"#s2\", StaticArraysCore.StaticArray{Tuple{var\"#s3\", var\"#s4\"}, T, 2} where {var\"#s3\", var\"#s4\"}}}, Diagonal{T, <:StaticArraysCore.StaticArray{Tuple{var\"#s13\"}, T, 1} where var\"#s13\"}, Hermitian{T, <:StaticArraysCore.StaticArray{Tuple{var\"#s10\", var\"#s11\"}, T, 2} where {var\"#s10\", var\"#s11\"}}, LowerTriangular{T, <:StaticArraysCore.StaticArray{Tuple{var\"#s18\", var\"#s19\"}, T, 2} where {var\"#s18\", var\"#s19\"}}, Symmetric{T, <:StaticArraysCore.StaticArray{Tuple{var\"#s7\", var\"#s8\"}, T, 2} where {var\"#s7\", var\"#s8\"}}, Transpose{T, <:Union{StaticArraysCore.StaticArray{Tuple{var\"#s2\"}, T, 1} where var\"#s2\", StaticArraysCore.StaticArray{Tuple{var\"#s3\", var\"#s4\"}, T, 2} where {var\"#s3\", var\"#s4\"}}}, UnitLowerTriangular{T, <:StaticArraysCore.StaticArray{Tuple{var\"#s24\", var\"#s25\"}, T, 2} where {var\"#s24\", var\"#s25\"}}, UnitUpperTriangular{T, <:StaticArraysCore.StaticArray{Tuple{var\"#s21\", var\"#s22\"}, T, 2} where {var\"#s21\", var\"#s22\"}}, UpperTriangular{T, <:StaticArraysCore.StaticArray{Tuple{var\"#s15\", var\"#s16\"}, T, 2} where {var\"#s15\", var\"#s16\"}}, StaticArraysCore.StaticArray{Tuple{var\"#s1\", var\"#s3\"}, T, 2} where {var\"#s1\", var\"#s3\"}} where T\u001b[39m; kwargs...) at ~/.julia/packages/StaticArrays/PUoe1/src/eigen.jl:16\n\u001b[0m  eigvals(\u001b[91m::Union{Hermitian{T, SA}, Hermitian{Complex{T}, SA}, Symmetric{T, SA}}\u001b[39m; permute, scale) where {T<:Real, SA<:StaticArraysCore.StaticArray} at ~/.julia/packages/StaticArrays/PUoe1/src/eigen.jl:2\n\u001b[0m  ...",
     "output_type": "error",
     "traceback": [
      "MethodError: no method matching eigvals(::typeof(H))\n\u001b[0mClosest candidates are:\n\u001b[0m  eigvals(\u001b[91m::Union{Eigen, GeneralizedEigen}\u001b[39m) at /usr/share/julia/stdlib/v1.8/LinearAlgebra/src/eigen.jl:270\n\u001b[0m  eigvals(\u001b[91m::Union{Adjoint{T, <:Union{StaticArraysCore.StaticArray{Tuple{var\"#s2\"}, T, 1} where var\"#s2\", StaticArraysCore.StaticArray{Tuple{var\"#s3\", var\"#s4\"}, T, 2} where {var\"#s3\", var\"#s4\"}}}, Diagonal{T, <:StaticArraysCore.StaticArray{Tuple{var\"#s13\"}, T, 1} where var\"#s13\"}, Hermitian{T, <:StaticArraysCore.StaticArray{Tuple{var\"#s10\", var\"#s11\"}, T, 2} where {var\"#s10\", var\"#s11\"}}, LowerTriangular{T, <:StaticArraysCore.StaticArray{Tuple{var\"#s18\", var\"#s19\"}, T, 2} where {var\"#s18\", var\"#s19\"}}, Symmetric{T, <:StaticArraysCore.StaticArray{Tuple{var\"#s7\", var\"#s8\"}, T, 2} where {var\"#s7\", var\"#s8\"}}, Transpose{T, <:Union{StaticArraysCore.StaticArray{Tuple{var\"#s2\"}, T, 1} where var\"#s2\", StaticArraysCore.StaticArray{Tuple{var\"#s3\", var\"#s4\"}, T, 2} where {var\"#s3\", var\"#s4\"}}}, UnitLowerTriangular{T, <:StaticArraysCore.StaticArray{Tuple{var\"#s24\", var\"#s25\"}, T, 2} where {var\"#s24\", var\"#s25\"}}, UnitUpperTriangular{T, <:StaticArraysCore.StaticArray{Tuple{var\"#s21\", var\"#s22\"}, T, 2} where {var\"#s21\", var\"#s22\"}}, UpperTriangular{T, <:StaticArraysCore.StaticArray{Tuple{var\"#s15\", var\"#s16\"}, T, 2} where {var\"#s15\", var\"#s16\"}}, StaticArraysCore.StaticArray{Tuple{var\"#s1\", var\"#s3\"}, T, 2} where {var\"#s1\", var\"#s3\"}} where T\u001b[39m, \u001b[91m::Union{Adjoint{T, <:Union{StaticArraysCore.StaticArray{Tuple{var\"#s2\"}, T, 1} where var\"#s2\", StaticArraysCore.StaticArray{Tuple{var\"#s3\", var\"#s4\"}, T, 2} where {var\"#s3\", var\"#s4\"}}}, Diagonal{T, <:StaticArraysCore.StaticArray{Tuple{var\"#s13\"}, T, 1} where var\"#s13\"}, Hermitian{T, <:StaticArraysCore.StaticArray{Tuple{var\"#s10\", var\"#s11\"}, T, 2} where {var\"#s10\", var\"#s11\"}}, LowerTriangular{T, <:StaticArraysCore.StaticArray{Tuple{var\"#s18\", var\"#s19\"}, T, 2} where {var\"#s18\", var\"#s19\"}}, Symmetric{T, <:StaticArraysCore.StaticArray{Tuple{var\"#s7\", var\"#s8\"}, T, 2} where {var\"#s7\", var\"#s8\"}}, Transpose{T, <:Union{StaticArraysCore.StaticArray{Tuple{var\"#s2\"}, T, 1} where var\"#s2\", StaticArraysCore.StaticArray{Tuple{var\"#s3\", var\"#s4\"}, T, 2} where {var\"#s3\", var\"#s4\"}}}, UnitLowerTriangular{T, <:StaticArraysCore.StaticArray{Tuple{var\"#s24\", var\"#s25\"}, T, 2} where {var\"#s24\", var\"#s25\"}}, UnitUpperTriangular{T, <:StaticArraysCore.StaticArray{Tuple{var\"#s21\", var\"#s22\"}, T, 2} where {var\"#s21\", var\"#s22\"}}, UpperTriangular{T, <:StaticArraysCore.StaticArray{Tuple{var\"#s15\", var\"#s16\"}, T, 2} where {var\"#s15\", var\"#s16\"}}, StaticArraysCore.StaticArray{Tuple{var\"#s1\", var\"#s3\"}, T, 2} where {var\"#s1\", var\"#s3\"}} where T\u001b[39m; kwargs...) at ~/.julia/packages/StaticArrays/PUoe1/src/eigen.jl:16\n\u001b[0m  eigvals(\u001b[91m::Union{Hermitian{T, SA}, Hermitian{Complex{T}, SA}, Symmetric{T, SA}}\u001b[39m; permute, scale) where {T<:Real, SA<:StaticArraysCore.StaticArray} at ~/.julia/packages/StaticArrays/PUoe1/src/eigen.jl:2\n\u001b[0m  ...",
      "",
      "Stacktrace:",
      " [1] top-level scope",
      "   @ In[3]:1",
      " [2] eval",
      "   @ ./boot.jl:368 [inlined]",
      " [3] include_string(mapexpr::typeof(REPL.softscope), mod::Module, code::String, filename::String)",
      "   @ Base ./loading.jl:1428"
     ]
    }
   ],
   "source": [
    "histogram(eigvals(H), nbins = 100, xlabel = \"Energy (eV)\")"
   ]
  },
  {
   "cell_type": "raw",
   "id": "2250ecbe",
   "metadata": {},
   "source": [
    "a = 1; ks = -π/2:0.1:π/2\n",
    "spectrum(k) =eigvals([3 2*1*cos(k*a); 2*1*cos(k*a) 3])\n",
    "scatter(ks, spectrum.(ks))"
   ]
  },
  {
   "cell_type": "code",
   "execution_count": null,
   "id": "85957139",
   "metadata": {},
   "outputs": [],
   "source": []
  }
 ],
 "metadata": {
  "kernelspec": {
   "display_name": "Julia 1.7.3",
   "language": "julia",
   "name": "julia-1.7"
  },
  "language_info": {
   "file_extension": ".jl",
   "mimetype": "application/julia",
   "name": "julia",
   "version": "1.8.0"
  }
 },
 "nbformat": 4,
 "nbformat_minor": 5
}
