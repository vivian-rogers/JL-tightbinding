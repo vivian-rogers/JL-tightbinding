{
 "cells": [
  {
   "cell_type": "code",
   "execution_count": 4,
   "id": "8f441934",
   "metadata": {},
   "outputs": [
    {
     "name": "stdout",
     "output_type": "stream",
     "text": [
      "runtype = multiblochdws\n",
      "Saved output to ./runs/testruns/Fri-26-Aug-2022--14.39.55/params.txt\n",
      "=========== MWSM devices ==============\n",
      "performing: none\n",
      "Generating static hamiltonian...\n",
      "Applying magnetization profile...\n",
      "===== Calculating applied zeeman field properties =====\n",
      "exchange-type field is used, periodicity implied\n",
      "Rendering 2 Terminal device with magnetization field\n"
     ]
    },
    {
     "name": "stderr",
     "output_type": "stream",
     "text": [
      "WARNING: replacing module runs.\n"
     ]
    },
    {
     "ename": "LoadError",
     "evalue": "LoadError: MethodError: no method matching current_axis(::Nothing)\n\u001b[0mClosest candidates are:\n\u001b[0m  current_axis() at ~/.julia/packages/Makie/NL7Xw/src/figures.jl:36\n\u001b[0m  current_axis(\u001b[91m::Makie.Figure\u001b[39m) at ~/.julia/packages/Makie/NL7Xw/src/figures.jl:37\nin expression starting at /mnt/866ED4336ED41E2D/Users/viv/Documents/inclab/tightbinding/periodicweyl/runs.jl:7",
     "output_type": "error",
     "traceback": [
      "LoadError: MethodError: no method matching current_axis(::Nothing)\n\u001b[0mClosest candidates are:\n\u001b[0m  current_axis() at ~/.julia/packages/Makie/NL7Xw/src/figures.jl:36\n\u001b[0m  current_axis(\u001b[91m::Makie.Figure\u001b[39m) at ~/.julia/packages/Makie/NL7Xw/src/figures.jl:37\nin expression starting at /mnt/866ED4336ED41E2D/Users/viv/Documents/inclab/tightbinding/periodicweyl/runs.jl:7",
      "",
      "Stacktrace:",
      "  [1] plot!(P::Type{MakieCore.Mesh}, args::GeometryBasics.HyperRectangle{3, Float32}; kw_attributes::Base.Pairs{Symbol, Any, Tuple{Symbol, Symbol}, NamedTuple{(:color, :transparency), Tuple{Tuple{Symbol, Float64}, Bool}}})",
      "    @ Makie ~/.julia/packages/Makie/NL7Xw/src/figureplotting.jl:45",
      "  [2] #mesh!#40",
      "    @ ~/.julia/packages/MakieCore/S8PkO/src/recipes.jl:35 [inlined]",
      "  [3] plotslab!",
      "    @ /mnt/866ED4336ED41E2D/Users/viv/Documents/inclab/tightbinding/src/MakiePlots.jl:24 [inlined]",
      "  [4] render2TDevice(p::NamedTuple{(:t, :t₁, :t₂, :t₃, :t₄, :t₅, :t₆, :t₇, :t₈, :t₉, :vf, :η, :ε, :ϵ₁, :a₁, :a₂, :a₃, :A, :a, :b, :c, :SLa₁, :SLa₂, :SLa₃, :nx, :ny, :nz, :n, :norb, :nsite, :kdict, :μ, :μ_disorder, :E_samples, :nk, :path, :savedata, :save, :β, :runtype, :fieldtype, :ηD, :transport, :verbose, :plotfield, :bands, :θ, :sweep, :electrodeMagnetization, :electrodeMaterial, :deviceMagnetization, :deviceMaterial, :startDWs, :DWwidth, :DWspacing, :λ, :prune, :arpack, :klist), Tuple{Float64, Float64, Float64, Float64, Int64, Float64, Float64, Float64, Float64, Float64, Int64, Float64, Float64, Float64, Vector{Float64}, Vector{Float64}, Vector{Float64}, Matrix{Float64}, Float64, Float64, Float64, Vector{Float64}, Vector{Float64}, Vector{Float64}, Int64, Int64, Int64, Int64, Int64, Int64, Dict{String, Vector}, Float64, Float64, Vector{Float64}, Int64, String, Bool, Bool, Float64, String, String, Float64, Bool, Bool, Bool, Bool, Float64, String, Bool, String, Bool, String, Float64, Float64, Float64, Float64, Vector{Any}, Bool, Vector{String}}}, Rvals::Vector{Vector{Float64}}, fvals::Vector{Vector{Float64}}, cmap::Function, margin::Float64, arrowScaling::Float64)",
      "    @ MakiePlots /mnt/866ED4336ED41E2D/Users/viv/Documents/inclab/tightbinding/src/MakiePlots.jl:58",
      "  [5] render2TDevice",
      "    @ /mnt/866ED4336ED41E2D/Users/viv/Documents/inclab/tightbinding/src/MakiePlots.jl:39 [inlined]",
      "  [6] fieldUtils(p::NamedTuple{(:t, :t₁, :t₂, :t₃, :t₄, :t₅, :t₆, :t₇, :t₈, :t₉, :vf, :η, :ε, :ϵ₁, :a₁, :a₂, :a₃, :A, :a, :b, :c, :SLa₁, :SLa₂, :SLa₃, :nx, :ny, :nz, :n, :norb, :nsite, :kdict, :μ, :μ_disorder, :E_samples, :nk, :path, :savedata, :save, :β, :runtype, :fieldtype, :ηD, :transport, :verbose, :plotfield, :bands, :θ, :sweep, :electrodeMagnetization, :electrodeMaterial, :deviceMagnetization, :deviceMaterial, :startDWs, :DWwidth, :DWspacing, :λ, :prune, :arpack, :klist), Tuple{Float64, Float64, Float64, Float64, Int64, Float64, Float64, Float64, Float64, Float64, Int64, Float64, Float64, Float64, Vector{Float64}, Vector{Float64}, Vector{Float64}, Matrix{Float64}, Float64, Float64, Float64, Vector{Float64}, Vector{Float64}, Vector{Float64}, Int64, Int64, Int64, Int64, Int64, Int64, Dict{String, Vector}, Float64, Float64, Vector{Float64}, Int64, String, Bool, Bool, Float64, String, String, Float64, Bool, Bool, Bool, Bool, Float64, String, Bool, String, Bool, String, Float64, Float64, Float64, Float64, Vector{Any}, Bool, Vector{String}}}, A::Function, Rsurf::Vector{Vector{Float64}}, Rvals::Vector{Vector{Float64}})",
      "    @ ConstructHamiltonian /mnt/866ED4336ED41E2D/Users/viv/Documents/inclab/tightbinding/periodicweyl/ConstructHamiltonian.jl:154",
      "  [7] Hgen(p::NamedTuple{(:t, :t₁, :t₂, :t₃, :t₄, :t₅, :t₆, :t₇, :t₈, :t₉, :vf, :η, :ε, :ϵ₁, :a₁, :a₂, :a₃, :A, :a, :b, :c, :SLa₁, :SLa₂, :SLa₃, :nx, :ny, :nz, :n, :norb, :nsite, :kdict, :μ, :μ_disorder, :E_samples, :nk, :path, :savedata, :save, :β, :runtype, :fieldtype, :ηD, :transport, :verbose, :plotfield, :bands, :θ, :sweep, :electrodeMagnetization, :electrodeMaterial, :deviceMagnetization, :deviceMaterial, :startDWs, :DWwidth, :DWspacing, :λ, :prune, :arpack, :klist), Tuple{Float64, Float64, Float64, Float64, Int64, Float64, Float64, Float64, Float64, Float64, Int64, Float64, Float64, Float64, Vector{Float64}, Vector{Float64}, Vector{Float64}, Matrix{Float64}, Float64, Float64, Float64, Vector{Float64}, Vector{Float64}, Vector{Float64}, Int64, Int64, Int64, Int64, Int64, Int64, Dict{String, Vector}, Float64, Float64, Vector{Float64}, Int64, String, Bool, Bool, Float64, String, String, Float64, Bool, Bool, Bool, Bool, Float64, String, Bool, String, Bool, String, Float64, Float64, Float64, Float64, Vector{Any}, Bool, Vector{String}}}, A::Function)",
      "    @ ConstructHamiltonian /mnt/866ED4336ED41E2D/Users/viv/Documents/inclab/tightbinding/periodicweyl/ConstructHamiltonian.jl:62",
      "  [8] runSCF (repeats 2 times)",
      "    @ /mnt/866ED4336ED41E2D/Users/viv/Documents/inclab/tightbinding/periodicweyl/Driver.jl:185 [inlined]",
      "  [9] main(p::NamedTuple{(:t, :t₁, :t₂, :t₃, :t₄, :t₅, :t₆, :t₇, :t₈, :t₉, :vf, :η, :ε, :ϵ₁, :a₁, :a₂, :a₃, :A, :a, :b, :c, :SLa₁, :SLa₂, :SLa₃, :nx, :ny, :nz, :n, :norb, :nsite, :kdict, :μ, :μ_disorder, :E_samples, :nk, :path, :savedata, :save, :β, :runtype, :fieldtype, :ηD, :transport, :verbose, :plotfield, :bands, :θ, :sweep, :electrodeMagnetization, :electrodeMaterial, :deviceMagnetization, :deviceMaterial, :startDWs, :DWwidth, :DWspacing, :λ, :prune, :arpack, :klist), Tuple{Float64, Float64, Float64, Float64, Int64, Float64, Float64, Float64, Float64, Float64, Int64, Float64, Float64, Float64, Vector{Float64}, Vector{Float64}, Vector{Float64}, Matrix{Float64}, Float64, Float64, Float64, Vector{Float64}, Vector{Float64}, Vector{Float64}, Int64, Int64, Int64, Int64, Int64, Int64, Dict{String, Vector}, Float64, Float64, Vector{Float64}, Int64, String, Bool, Bool, Float64, String, String, Float64, Bool, Bool, Bool, Bool, Float64, String, Bool, String, Bool, String, Float64, Float64, Float64, Float64, Vector{Any}, Bool, Vector{String}}}, A::Function, save::Bool, path::String)",
      "    @ Driver /mnt/866ED4336ED41E2D/Users/viv/Documents/inclab/tightbinding/periodicweyl/Driver.jl:210",
      " [10] main(p::NamedTuple{(:t, :t₁, :t₂, :t₃, :t₄, :t₅, :t₆, :t₇, :t₈, :t₉, :vf, :η, :ε, :ϵ₁, :a₁, :a₂, :a₃, :A, :a, :b, :c, :SLa₁, :SLa₂, :SLa₃, :nx, :ny, :nz, :n, :norb, :nsite, :kdict, :μ, :μ_disorder, :E_samples, :nk, :path, :savedata, :save, :β, :runtype, :fieldtype, :ηD, :transport, :verbose, :plotfield, :bands, :θ, :sweep, :electrodeMagnetization, :electrodeMaterial, :deviceMagnetization, :deviceMaterial, :startDWs, :DWwidth, :DWspacing, :λ, :prune, :arpack, :klist), Tuple{Float64, Float64, Float64, Float64, Int64, Float64, Float64, Float64, Float64, Float64, Int64, Float64, Float64, Float64, Vector{Float64}, Vector{Float64}, Vector{Float64}, Matrix{Float64}, Float64, Float64, Float64, Vector{Float64}, Vector{Float64}, Vector{Float64}, Int64, Int64, Int64, Int64, Int64, Int64, Dict{String, Vector}, Float64, Float64, Vector{Float64}, Int64, String, Bool, Bool, Float64, String, String, Float64, Bool, Bool, Bool, Bool, Float64, String, Bool, String, Bool, String, Float64, Float64, Float64, Float64, Vector{Any}, Bool, Vector{String}}}, A::Function)",
      "    @ Driver /mnt/866ED4336ED41E2D/Users/viv/Documents/inclab/tightbinding/periodicweyl/Driver.jl:199",
      " [11] runFieldTexture(p::NamedTuple{(:t, :t₁, :t₂, :t₃, :t₄, :t₅, :t₆, :t₇, :t₈, :t₉, :vf, :η, :ε, :ϵ₁, :a₁, :a₂, :a₃, :A, :a, :b, :c, :SLa₁, :SLa₂, :SLa₃, :nx, :ny, :nz, :n, :norb, :nsite, :kdict, :μ, :μ_disorder, :E_samples, :nk, :path, :savedata, :save, :β, :runtype, :fieldtype, :ηD, :transport, :verbose, :plotfield, :bands, :θ, :sweep, :electrodeMagnetization, :electrodeMaterial, :deviceMagnetization, :deviceMaterial, :startDWs, :DWwidth, :DWspacing, :λ, :prune, :arpack, :klist), Tuple{Float64, Float64, Float64, Float64, Int64, Float64, Float64, Float64, Float64, Float64, Int64, Float64, Float64, Float64, Vector{Float64}, Vector{Float64}, Vector{Float64}, Matrix{Float64}, Float64, Float64, Float64, Vector{Float64}, Vector{Float64}, Vector{Float64}, Int64, Int64, Int64, Int64, Int64, Int64, Dict{String, Vector}, Float64, Float64, Vector{Float64}, Int64, String, Bool, Bool, Float64, String, String, Float64, Bool, Bool, Bool, Bool, Float64, String, Bool, String, Bool, String, Float64, Float64, Float64, Float64, Vector{Any}, Bool, Vector{String}}})",
      "    @ Main.runs /mnt/866ED4336ED41E2D/Users/viv/Documents/inclab/tightbinding/periodicweyl/runs.jl:66",
      " [12] top-level scope",
      "    @ /mnt/866ED4336ED41E2D/Users/viv/Documents/inclab/tightbinding/periodicweyl/runs.jl:87",
      " [13] include(fname::String)",
      "    @ Base.MainInclude ./client.jl:451",
      " [14] top-level scope",
      "    @ In[4]:1",
      " [15] eval",
      "    @ ./boot.jl:373 [inlined]",
      " [16] include_string(mapexpr::typeof(REPL.softscope), mod::Module, code::String, filename::String)",
      "    @ Base ./loading.jl:1196"
     ]
    }
   ],
   "source": [
    "include(\"./runs.jl\")"
   ]
  }
 ],
 "metadata": {
  "@webio": {
   "lastCommId": "1cce0733b50846229075d309d569b753",
   "lastKernelId": "1af25da2-6c76-4662-8449-18a1820f5acb"
  },
  "kernelspec": {
   "display_name": "Julia 1.7.3",
   "language": "julia",
   "name": "julia-1.7"
  },
  "language_info": {
   "file_extension": ".jl",
   "mimetype": "application/julia",
   "name": "julia",
   "version": "1.8.0"
  }
 },
 "nbformat": 4,
 "nbformat_minor": 5
}
