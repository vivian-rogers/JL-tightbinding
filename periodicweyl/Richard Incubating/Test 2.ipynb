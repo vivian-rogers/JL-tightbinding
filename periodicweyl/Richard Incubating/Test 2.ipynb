{
 "cells": [
  {
   "cell_type": "code",
   "execution_count": 2,
   "metadata": {},
   "outputs": [],
   "source": [
    "using Plots\n",
    "using LinearAlgebra\n"
   ]
  },
  {
   "cell_type": "code",
   "execution_count": null,
   "metadata": {},
   "outputs": [],
   "source": [
    "function ∇ψ(v::Vector{Float64}, H::Function, dR::Float64, R::Vector{Float64})\n",
    "    # Get the eigenvectors at +/-dR for each component of R\n",
    "    R+ = R\n",
    "    R+[k] = R[k] + dR\n",
    "    eigenvec+ = eigenvecs(H(R+))[:, n]\n",
    "    \n",
    "    R- = R\n",
    "    R-[k] = R[k] - dR\n",
    "    eigenvec- = eigenvecs(H(R-))[:, n]\n",
    "    \n",
    "    # Calculate the partial derivative\n",
    "    dPsi = norm(eigenvec+ - eigenvec-)\n",
    "    dPsiₖ = dPsi / (2*dR)\n",
    "    \n",
    "    # Package back into a vector\n",
    "    "
   ]
  },
  {
   "cell_type": "code",
   "execution_count": null,
   "metadata": {},
   "outputs": [],
   "source": [
    "function Aₙgen(n::Int64, H::Function, R::Vector{Float64})\n",
    "    dR = 1e-8\n",
    "    \n",
    "    # Calculate Eigenvectors\n",
    "    eigenvectors = eigenvecs(H(R))\n",
    "    \n",
    "    eigenvector = eigenvectors[:, n]\n",
    "    \n",
    "    # Compute the expectation vcalue of grad psi\n",
    "        #Compute grad psi\n",
    "        ∇ψ = ∇ψ(v, H, dR, R)\n",
    "    \n",
    "        #Compute psi*\n",
    "    \n",
    "        #integrate\n",
    "    \n",
    "        #Multiply by i\n",
    "    \n",
    "    # return An(R)"
   ]
  },
  {
   "cell_type": "code",
   "execution_count": null,
   "metadata": {},
   "outputs": [],
   "source": [
    "function berryphase(H::Function, Rlist::Vector{Vector{Float64}}, Kdict)\n",
    "    # Loop over every position R on our curve C\n",
    "    R = Rlist[0]\n",
    "    \n",
    "    # Loop over every n eigenstate of psi\n",
    "    n = 1\n",
    "    \n",
    "    # Calculate An(R)\n",
    "    A = Aₙgen(n, H, R)\n",
    "    \n",
    "    # Calculate dR\n",
    "    \n",
    "    # Dot the Vectors\n",
    "    \n",
    "    # Integrate\n",
    "    "
   ]
  }
 ],
 "metadata": {
  "kernelspec": {
   "display_name": "Julia 1.8.2",
   "language": "julia",
   "name": "julia-1.8"
  },
  "language_info": {
   "file_extension": ".jl",
   "mimetype": "application/julia",
   "name": "julia",
   "version": "1.8.2"
  }
 },
 "nbformat": 4,
 "nbformat_minor": 4
}
